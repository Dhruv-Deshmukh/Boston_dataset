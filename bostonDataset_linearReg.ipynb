{
 "cells": [
  {
   "cell_type": "markdown",
   "id": "0ac67f48",
   "metadata": {},
   "source": [
    "#Linear Regression on Boston Housing Dataset"
   ]
  },
  {
   "cell_type": "code",
   "execution_count": 1,
   "id": "d97f294a",
   "metadata": {},
   "outputs": [],
   "source": [
    "from sklearn import datasets"
   ]
  },
  {
   "cell_type": "code",
   "execution_count": 2,
   "id": "aadc4d7c",
   "metadata": {},
   "outputs": [
    {
     "name": "stdout",
     "output_type": "stream",
     "text": [
      "dict_keys(['data', 'target', 'feature_names', 'DESCR', 'filename'])\n"
     ]
    }
   ],
   "source": [
    "boston = datasets.load_boston()\n",
    "print(boston.keys()) #printed the keys of the boston dataset to understand what it contains.\n"
   ]
  },
  {
   "cell_type": "code",
   "execution_count": 3,
   "id": "6052673f",
   "metadata": {},
   "outputs": [],
   "source": [
    "X = boston.data\n",
    "Y = boston.target"
   ]
  },
  {
   "cell_type": "code",
   "execution_count": 4,
   "id": "a3d32b34",
   "metadata": {},
   "outputs": [
    {
     "data": {
      "text/plain": [
       "\".. _boston_dataset:\\n\\nBoston house prices dataset\\n---------------------------\\n\\n**Data Set Characteristics:**  \\n\\n    :Number of Instances: 506 \\n\\n    :Number of Attributes: 13 numeric/categorical predictive. Median Value (attribute 14) is usually the target.\\n\\n    :Attribute Information (in order):\\n        - CRIM     per capita crime rate by town\\n        - ZN       proportion of residential land zoned for lots over 25,000 sq.ft.\\n        - INDUS    proportion of non-retail business acres per town\\n        - CHAS     Charles River dummy variable (= 1 if tract bounds river; 0 otherwise)\\n        - NOX      nitric oxides concentration (parts per 10 million)\\n        - RM       average number of rooms per dwelling\\n        - AGE      proportion of owner-occupied units built prior to 1940\\n        - DIS      weighted distances to five Boston employment centres\\n        - RAD      index of accessibility to radial highways\\n        - TAX      full-value property-tax rate per $10,000\\n        - PTRATIO  pupil-teacher ratio by town\\n        - B        1000(Bk - 0.63)^2 where Bk is the proportion of blacks by town\\n        - LSTAT    % lower status of the population\\n        - MEDV     Median value of owner-occupied homes in $1000's\\n\\n    :Missing Attribute Values: None\\n\\n    :Creator: Harrison, D. and Rubinfeld, D.L.\\n\\nThis is a copy of UCI ML housing dataset.\\nhttps://archive.ics.uci.edu/ml/machine-learning-databases/housing/\\n\\n\\nThis dataset was taken from the StatLib library which is maintained at Carnegie Mellon University.\\n\\nThe Boston house-price data of Harrison, D. and Rubinfeld, D.L. 'Hedonic\\nprices and the demand for clean air', J. Environ. Economics & Management,\\nvol.5, 81-102, 1978.   Used in Belsley, Kuh & Welsch, 'Regression diagnostics\\n...', Wiley, 1980.   N.B. Various transformations are used in the table on\\npages 244-261 of the latter.\\n\\nThe Boston house-price data has been used in many machine learning papers that address regression\\nproblems.   \\n     \\n.. topic:: References\\n\\n   - Belsley, Kuh & Welsch, 'Regression diagnostics: Identifying Influential Data and Sources of Collinearity', Wiley, 1980. 244-261.\\n   - Quinlan,R. (1993). Combining Instance-Based and Model-Based Learning. In Proceedings on the Tenth International Conference of Machine Learning, 236-243, University of Massachusetts, Amherst. Morgan Kaufmann.\\n\""
      ]
     },
     "execution_count": 4,
     "metadata": {},
     "output_type": "execute_result"
    }
   ],
   "source": [
    "boston.DESCR\n",
    "#description of all the features is mentioned below:"
   ]
  },
  {
   "cell_type": "code",
   "execution_count": 5,
   "id": "f0f0607d",
   "metadata": {},
   "outputs": [
    {
     "data": {
      "text/html": [
       "<div>\n",
       "<style scoped>\n",
       "    .dataframe tbody tr th:only-of-type {\n",
       "        vertical-align: middle;\n",
       "    }\n",
       "\n",
       "    .dataframe tbody tr th {\n",
       "        vertical-align: top;\n",
       "    }\n",
       "\n",
       "    .dataframe thead th {\n",
       "        text-align: right;\n",
       "    }\n",
       "</style>\n",
       "<table border=\"1\" class=\"dataframe\">\n",
       "  <thead>\n",
       "    <tr style=\"text-align: right;\">\n",
       "      <th></th>\n",
       "      <th>CRIM</th>\n",
       "      <th>ZN</th>\n",
       "      <th>INDUS</th>\n",
       "      <th>CHAS</th>\n",
       "      <th>NOX</th>\n",
       "      <th>RM</th>\n",
       "      <th>AGE</th>\n",
       "      <th>DIS</th>\n",
       "      <th>RAD</th>\n",
       "      <th>TAX</th>\n",
       "      <th>PTRATIO</th>\n",
       "      <th>B</th>\n",
       "      <th>LSTAT</th>\n",
       "    </tr>\n",
       "  </thead>\n",
       "  <tbody>\n",
       "    <tr>\n",
       "      <th>0</th>\n",
       "      <td>0.00632</td>\n",
       "      <td>18.0</td>\n",
       "      <td>2.31</td>\n",
       "      <td>0.0</td>\n",
       "      <td>0.538</td>\n",
       "      <td>6.575</td>\n",
       "      <td>65.2</td>\n",
       "      <td>4.0900</td>\n",
       "      <td>1.0</td>\n",
       "      <td>296.0</td>\n",
       "      <td>15.3</td>\n",
       "      <td>396.90</td>\n",
       "      <td>4.98</td>\n",
       "    </tr>\n",
       "    <tr>\n",
       "      <th>1</th>\n",
       "      <td>0.02731</td>\n",
       "      <td>0.0</td>\n",
       "      <td>7.07</td>\n",
       "      <td>0.0</td>\n",
       "      <td>0.469</td>\n",
       "      <td>6.421</td>\n",
       "      <td>78.9</td>\n",
       "      <td>4.9671</td>\n",
       "      <td>2.0</td>\n",
       "      <td>242.0</td>\n",
       "      <td>17.8</td>\n",
       "      <td>396.90</td>\n",
       "      <td>9.14</td>\n",
       "    </tr>\n",
       "    <tr>\n",
       "      <th>2</th>\n",
       "      <td>0.02729</td>\n",
       "      <td>0.0</td>\n",
       "      <td>7.07</td>\n",
       "      <td>0.0</td>\n",
       "      <td>0.469</td>\n",
       "      <td>7.185</td>\n",
       "      <td>61.1</td>\n",
       "      <td>4.9671</td>\n",
       "      <td>2.0</td>\n",
       "      <td>242.0</td>\n",
       "      <td>17.8</td>\n",
       "      <td>392.83</td>\n",
       "      <td>4.03</td>\n",
       "    </tr>\n",
       "    <tr>\n",
       "      <th>3</th>\n",
       "      <td>0.03237</td>\n",
       "      <td>0.0</td>\n",
       "      <td>2.18</td>\n",
       "      <td>0.0</td>\n",
       "      <td>0.458</td>\n",
       "      <td>6.998</td>\n",
       "      <td>45.8</td>\n",
       "      <td>6.0622</td>\n",
       "      <td>3.0</td>\n",
       "      <td>222.0</td>\n",
       "      <td>18.7</td>\n",
       "      <td>394.63</td>\n",
       "      <td>2.94</td>\n",
       "    </tr>\n",
       "    <tr>\n",
       "      <th>4</th>\n",
       "      <td>0.06905</td>\n",
       "      <td>0.0</td>\n",
       "      <td>2.18</td>\n",
       "      <td>0.0</td>\n",
       "      <td>0.458</td>\n",
       "      <td>7.147</td>\n",
       "      <td>54.2</td>\n",
       "      <td>6.0622</td>\n",
       "      <td>3.0</td>\n",
       "      <td>222.0</td>\n",
       "      <td>18.7</td>\n",
       "      <td>396.90</td>\n",
       "      <td>5.33</td>\n",
       "    </tr>\n",
       "    <tr>\n",
       "      <th>...</th>\n",
       "      <td>...</td>\n",
       "      <td>...</td>\n",
       "      <td>...</td>\n",
       "      <td>...</td>\n",
       "      <td>...</td>\n",
       "      <td>...</td>\n",
       "      <td>...</td>\n",
       "      <td>...</td>\n",
       "      <td>...</td>\n",
       "      <td>...</td>\n",
       "      <td>...</td>\n",
       "      <td>...</td>\n",
       "      <td>...</td>\n",
       "    </tr>\n",
       "    <tr>\n",
       "      <th>501</th>\n",
       "      <td>0.06263</td>\n",
       "      <td>0.0</td>\n",
       "      <td>11.93</td>\n",
       "      <td>0.0</td>\n",
       "      <td>0.573</td>\n",
       "      <td>6.593</td>\n",
       "      <td>69.1</td>\n",
       "      <td>2.4786</td>\n",
       "      <td>1.0</td>\n",
       "      <td>273.0</td>\n",
       "      <td>21.0</td>\n",
       "      <td>391.99</td>\n",
       "      <td>9.67</td>\n",
       "    </tr>\n",
       "    <tr>\n",
       "      <th>502</th>\n",
       "      <td>0.04527</td>\n",
       "      <td>0.0</td>\n",
       "      <td>11.93</td>\n",
       "      <td>0.0</td>\n",
       "      <td>0.573</td>\n",
       "      <td>6.120</td>\n",
       "      <td>76.7</td>\n",
       "      <td>2.2875</td>\n",
       "      <td>1.0</td>\n",
       "      <td>273.0</td>\n",
       "      <td>21.0</td>\n",
       "      <td>396.90</td>\n",
       "      <td>9.08</td>\n",
       "    </tr>\n",
       "    <tr>\n",
       "      <th>503</th>\n",
       "      <td>0.06076</td>\n",
       "      <td>0.0</td>\n",
       "      <td>11.93</td>\n",
       "      <td>0.0</td>\n",
       "      <td>0.573</td>\n",
       "      <td>6.976</td>\n",
       "      <td>91.0</td>\n",
       "      <td>2.1675</td>\n",
       "      <td>1.0</td>\n",
       "      <td>273.0</td>\n",
       "      <td>21.0</td>\n",
       "      <td>396.90</td>\n",
       "      <td>5.64</td>\n",
       "    </tr>\n",
       "    <tr>\n",
       "      <th>504</th>\n",
       "      <td>0.10959</td>\n",
       "      <td>0.0</td>\n",
       "      <td>11.93</td>\n",
       "      <td>0.0</td>\n",
       "      <td>0.573</td>\n",
       "      <td>6.794</td>\n",
       "      <td>89.3</td>\n",
       "      <td>2.3889</td>\n",
       "      <td>1.0</td>\n",
       "      <td>273.0</td>\n",
       "      <td>21.0</td>\n",
       "      <td>393.45</td>\n",
       "      <td>6.48</td>\n",
       "    </tr>\n",
       "    <tr>\n",
       "      <th>505</th>\n",
       "      <td>0.04741</td>\n",
       "      <td>0.0</td>\n",
       "      <td>11.93</td>\n",
       "      <td>0.0</td>\n",
       "      <td>0.573</td>\n",
       "      <td>6.030</td>\n",
       "      <td>80.8</td>\n",
       "      <td>2.5050</td>\n",
       "      <td>1.0</td>\n",
       "      <td>273.0</td>\n",
       "      <td>21.0</td>\n",
       "      <td>396.90</td>\n",
       "      <td>7.88</td>\n",
       "    </tr>\n",
       "  </tbody>\n",
       "</table>\n",
       "<p>506 rows × 13 columns</p>\n",
       "</div>"
      ],
      "text/plain": [
       "        CRIM    ZN  INDUS  CHAS    NOX     RM   AGE     DIS  RAD    TAX  \\\n",
       "0    0.00632  18.0   2.31   0.0  0.538  6.575  65.2  4.0900  1.0  296.0   \n",
       "1    0.02731   0.0   7.07   0.0  0.469  6.421  78.9  4.9671  2.0  242.0   \n",
       "2    0.02729   0.0   7.07   0.0  0.469  7.185  61.1  4.9671  2.0  242.0   \n",
       "3    0.03237   0.0   2.18   0.0  0.458  6.998  45.8  6.0622  3.0  222.0   \n",
       "4    0.06905   0.0   2.18   0.0  0.458  7.147  54.2  6.0622  3.0  222.0   \n",
       "..       ...   ...    ...   ...    ...    ...   ...     ...  ...    ...   \n",
       "501  0.06263   0.0  11.93   0.0  0.573  6.593  69.1  2.4786  1.0  273.0   \n",
       "502  0.04527   0.0  11.93   0.0  0.573  6.120  76.7  2.2875  1.0  273.0   \n",
       "503  0.06076   0.0  11.93   0.0  0.573  6.976  91.0  2.1675  1.0  273.0   \n",
       "504  0.10959   0.0  11.93   0.0  0.573  6.794  89.3  2.3889  1.0  273.0   \n",
       "505  0.04741   0.0  11.93   0.0  0.573  6.030  80.8  2.5050  1.0  273.0   \n",
       "\n",
       "     PTRATIO       B  LSTAT  \n",
       "0       15.3  396.90   4.98  \n",
       "1       17.8  396.90   9.14  \n",
       "2       17.8  392.83   4.03  \n",
       "3       18.7  394.63   2.94  \n",
       "4       18.7  396.90   5.33  \n",
       "..       ...     ...    ...  \n",
       "501     21.0  391.99   9.67  \n",
       "502     21.0  396.90   9.08  \n",
       "503     21.0  396.90   5.64  \n",
       "504     21.0  393.45   6.48  \n",
       "505     21.0  396.90   7.88  \n",
       "\n",
       "[506 rows x 13 columns]"
      ]
     },
     "execution_count": 5,
     "metadata": {},
     "output_type": "execute_result"
    }
   ],
   "source": [
    "import pandas as pd\n",
    "df = pd.DataFrame(X)\n",
    "df.columns = boston.feature_names\n",
    "df"
   ]
  },
  {
   "cell_type": "code",
   "execution_count": 6,
   "id": "020aa2ba",
   "metadata": {},
   "outputs": [
    {
     "data": {
      "text/plain": [
       "CRIM       0\n",
       "ZN         0\n",
       "INDUS      0\n",
       "CHAS       0\n",
       "NOX        0\n",
       "RM         0\n",
       "AGE        0\n",
       "DIS        0\n",
       "RAD        0\n",
       "TAX        0\n",
       "PTRATIO    0\n",
       "B          0\n",
       "LSTAT      0\n",
       "dtype: int64"
      ]
     },
     "execution_count": 6,
     "metadata": {},
     "output_type": "execute_result"
    }
   ],
   "source": [
    "df.isnull().sum()\n",
    "#there are no missing values in this dataset as shown below."
   ]
  },
  {
   "cell_type": "code",
   "execution_count": 7,
   "id": "eae94318",
   "metadata": {},
   "outputs": [
    {
     "data": {
      "text/plain": [
       "[array([[2.22120e-01, 0.00000e+00, 1.00100e+01, ..., 1.78000e+01,\n",
       "         3.96900e+02, 1.70900e+01],\n",
       "        [1.00000e-01, 3.40000e+01, 6.09000e+00, ..., 1.61000e+01,\n",
       "         3.90430e+02, 4.86000e+00],\n",
       "        [2.37857e+00, 0.00000e+00, 1.81000e+01, ..., 2.02000e+01,\n",
       "         3.70730e+02, 1.33400e+01],\n",
       "        ...,\n",
       "        [1.64390e-01, 2.20000e+01, 5.86000e+00, ..., 1.91000e+01,\n",
       "         3.74710e+02, 9.52000e+00],\n",
       "        [2.87500e-02, 2.80000e+01, 1.50400e+01, ..., 1.82000e+01,\n",
       "         3.96330e+02, 6.21000e+00],\n",
       "        [2.43938e+01, 0.00000e+00, 1.81000e+01, ..., 2.02000e+01,\n",
       "         3.96900e+02, 2.82800e+01]]),\n",
       " array([[8.25260e-01, 2.00000e+01, 3.97000e+00, ..., 1.30000e+01,\n",
       "         3.93420e+02, 1.12500e+01],\n",
       "        [5.11358e+01, 0.00000e+00, 1.81000e+01, ..., 2.02000e+01,\n",
       "         2.60000e+00, 1.01100e+01],\n",
       "        [1.35540e-01, 1.25000e+01, 6.07000e+00, ..., 1.89000e+01,\n",
       "         3.96900e+02, 1.30900e+01],\n",
       "        ...,\n",
       "        [1.33598e+01, 0.00000e+00, 1.81000e+01, ..., 2.02000e+01,\n",
       "         3.96900e+02, 1.63500e+01],\n",
       "        [4.54400e-02, 0.00000e+00, 3.24000e+00, ..., 1.69000e+01,\n",
       "         3.68570e+02, 9.09000e+00],\n",
       "        [2.54300e-02, 5.50000e+01, 3.78000e+00, ..., 1.76000e+01,\n",
       "         3.96900e+02, 7.18000e+00]]),\n",
       " array([18.7, 33.1, 20.6, 20.8, 16.3,  9.6, 20.1,  8.4, 18.5, 11.5, 23. ,\n",
       "        22.4, 22.2, 23.3, 20.4, 28.7, 25.3,  5. , 21.4, 16. , 20.5, 14.3,\n",
       "        24.1, 36.1, 19.1, 20.6, 24.3, 24.7, 48.3, 48.5, 21.7, 18.4, 19.3,\n",
       "        24.7, 32.5, 22.7, 24.4, 34.6, 21. , 18.9, 50. , 32. , 13.3, 13.2,\n",
       "        14. , 20.8, 23.3, 17.3, 50. , 22.9, 20.9, 13.8, 19.4, 29.8, 24.5,\n",
       "        24.6, 13.1, 16.6, 17.1, 31.5, 42.3, 17.6, 22.3, 22.6, 24.4, 14.5,\n",
       "        26.4, 17.2, 14.6, 20. , 15.6, 50. , 35.1, 19.6, 24.1, 15.2, 29.1,\n",
       "        21.2, 50. , 13.4, 10.2, 26.6, 19.9, 32.7, 23.1, 25. , 13.8, 27.5,\n",
       "        23.4, 13.5, 13.8, 45.4, 37.6, 19.3, 32.4, 43.8, 32. , 22. , 24.5,\n",
       "        22. , 22. , 28.2, 19.6, 18.6, 29. , 17.5, 22. , 50. , 34.7, 16.1,\n",
       "        18.4, 36.5, 20.4, 28.5, 19.8, 18.5, 27.9, 31.5, 50. , 41.3, 43.1,\n",
       "        14.3, 44. , 19.2, 27.5, 29.1, 20.3, 21.2, 19.6, 22.4, 25. , 19.3,\n",
       "        22.5, 21.1, 13.4, 18.9, 16.4, 19.9, 13.9, 50. ,  7.2, 15. , 20.5,\n",
       "        21.2, 20.9,  8.5, 17.2, 23.9, 18.9, 18.2, 22.2, 21.9, 18.5, 10.2,\n",
       "        14.4, 21.7, 42.8, 31.2, 19.6, 24.8, 11. , 18.7, 24.4, 50. , 20.6,\n",
       "        19.5, 23.6, 13.4, 23.1, 13.4, 21.6, 33.2,  7.5, 35.4, 50. , 20.1,\n",
       "        37.3, 13.8, 22.1, 20.2, 23.2, 14.5, 12.3, 17.8, 50. , 21.2, 22.6,\n",
       "        21.4, 15.2, 21.4,  7.2, 23.8, 13. , 13.1, 20.1, 19.4, 23.9, 14.6,\n",
       "        20.6, 37. , 21.5, 11.7, 31.7, 23.2, 13.5, 34.9, 19.7, 10.2, 22.2,\n",
       "        21.2, 13.6, 20.3, 21.4, 18.8, 21.7,  8.4, 16.2, 15.6, 22.2, 22.5,\n",
       "        21. , 17.5, 23. , 35.4, 22.8, 22.5, 20. , 21.8, 31.1, 21.7, 48.8,\n",
       "        20.6, 11.8, 30.7, 16.1, 33.3, 24.3, 22.9, 23.3, 22. , 28.7,  7. ,\n",
       "        16.8, 50. , 46.7, 25.1,  6.3, 13.1, 33.1, 26.5, 17.4, 22.8, 12.7,\n",
       "        13.8, 15.6, 39.8, 23.7, 14.8, 20.2, 13.3, 46. , 36. , 28.4, 26.2,\n",
       "        10.5,  8.7, 19.9, 17.1, 10.4, 15.3, 23.8, 17.4, 14.9, 26.4, 15.1,\n",
       "        12.1, 16.7, 19. , 24. , 19.4, 16.1, 24.8, 18.8, 21.9,  5.6, 36.4,\n",
       "        19.9, 14.2, 30.1, 33.4, 15.4, 18.3,  8.3, 19.3, 23.8, 21.5, 16.8,\n",
       "        28.7, 22. , 17.1, 23.6, 22.9, 23. , 19. , 38.7, 33.2, 17.8, 21.1,\n",
       "        13.1, 22.7, 33.4,  8.1, 23. , 35.2, 20. , 33.8, 37.2, 33. , 28. ,\n",
       "        20.4, 16.7, 10.4, 28.6, 20.7, 11.7, 23.7, 18.7, 24.8, 28.1, 25. ,\n",
       "        50. , 14.9, 17.7, 22.6, 20. , 14.1, 18.6, 19.1, 17.9, 20.3, 20.4,\n",
       "        11.9, 31.6, 21. ,  7.4, 30.8, 18.1, 25. ,  7.2, 18.2,  9.7, 14.1,\n",
       "        19.4, 23.7, 21.7, 16.6, 12.7, 44.8, 23.1, 27.5, 22.9, 22.3, 27.1,\n",
       "        19.7, 23.1, 13.6, 24.8, 24.7, 18.2, 10.8, 10.9, 17.8, 14.5, 29.9,\n",
       "        15.4, 25. , 24.5, 25. , 10.5]),\n",
       " array([31. , 15. , 17.4, 22.6, 20.1, 12.8, 17.5, 26.6, 13.3, 24.4, 17. ,\n",
       "        50. , 32.9, 12.6, 15. ,  9.5, 22.8, 15.7, 29.8, 19.4, 19.3, 14.4,\n",
       "        24.6, 15.6, 21.8, 30.1, 19.8, 15.6, 19.4, 14.9, 31.6,  8.3, 20.8,\n",
       "        26.7, 26.6, 34.9, 17.2, 30.5, 20.7, 11.8, 11.9, 34.9, 19.5, 10.9,\n",
       "        20.1, 27.1, 23.1, 43.5, 27.9, 29.6, 32.2,  5. , 21.4, 18.3, 21.7,\n",
       "         8.5, 23.2, 24.3, 19.2,  8.8, 19.6, 23.3, 23.9,  7. , 30.1, 21.6,\n",
       "        12. , 37.9, 19.1, 22.6, 13.9, 23.8, 23.1, 29.4, 24. , 23.2, 23.9,\n",
       "        18. , 30.3, 16.2, 14.1, 18.4, 23.1, 36.2, 16.5, 23.7, 20.3, 19.5,\n",
       "        25. , 29.6, 11.3, 24.2, 22.8, 19.5,  8.8, 18.9, 36.2, 27. , 12.5,\n",
       "        41.7, 21.7, 17.8, 25.2, 21.9, 22.2, 29. , 24.1, 17.8, 20. , 27.5,\n",
       "        25. , 23.5, 15.2, 18.5, 20.5, 50. , 22. , 20.6, 16.5, 19.1, 50. ,\n",
       "        50. , 28.4, 23.4, 12.7, 19.8, 23.9])]"
      ]
     },
     "execution_count": 7,
     "metadata": {},
     "output_type": "execute_result"
    }
   ],
   "source": [
    "from sklearn import model_selection\n",
    "model_selection.train_test_split(X,Y)\n"
   ]
  },
  {
   "cell_type": "code",
   "execution_count": 8,
   "id": "6a1c1ada",
   "metadata": {},
   "outputs": [],
   "source": [
    "X_train , X_test , Y_train , Y_test = model_selection.train_test_split(X,Y)"
   ]
  },
  {
   "cell_type": "code",
   "execution_count": 9,
   "id": "944bf037",
   "metadata": {},
   "outputs": [
    {
     "data": {
      "text/plain": [
       "LinearRegression()"
      ]
     },
     "execution_count": 9,
     "metadata": {},
     "output_type": "execute_result"
    }
   ],
   "source": [
    "from sklearn.linear_model import LinearRegression\n",
    "algo1 = LinearRegression()\n",
    "algo1.fit(X_train , Y_train)"
   ]
  },
  {
   "cell_type": "code",
   "execution_count": 10,
   "id": "3ccf3bae",
   "metadata": {},
   "outputs": [
    {
     "data": {
      "text/plain": [
       "array([35.67720044, 16.8040756 , 19.3674185 , 27.23103045, 17.97917464,\n",
       "       20.73487081, 14.51607253, 44.60324135, 18.83465252, 14.29794239,\n",
       "       26.74871953,  3.80567299, 24.24579895, 16.24468967, 30.72919214,\n",
       "       20.78848137,  3.09615027, 26.69900619, 17.22359939, 27.64429678,\n",
       "       22.50651562,  4.1450096 , 13.25424469, 24.89041346, 23.33213893,\n",
       "       29.07457388, 19.18465899, 34.28894516, 32.09345264, 12.82664995,\n",
       "       24.42959758, 17.37918694, 19.40871256, 18.23746488, 19.20043983,\n",
       "       24.94112123, 34.63967638, 25.64465212, 15.73474293, 30.89910095,\n",
       "       27.32308848, 25.47059298, 13.80230061, 34.76346366, 15.94560985,\n",
       "       33.57094636, 24.22995566, 19.86795626, 23.88391119, 13.83266814,\n",
       "       15.64798402,  5.71617406, 25.42590368, 27.15029993, 39.77890604,\n",
       "       33.43985851, 13.21136805, 20.80685721, 22.54878036, 22.25033382,\n",
       "       24.38990889, 32.14823486, 22.03122026, 21.75698544, 25.69458969,\n",
       "       27.46385789, 30.93606975, 34.64387594, 20.59793263, 24.12970646,\n",
       "       19.24806212, 28.11433908, 17.77402902, 22.78062542, 21.34667278,\n",
       "       20.25868792, 21.17182814, 18.07730147, 13.24590893, 27.92880149,\n",
       "       11.8295106 , 21.25918293, 11.96086433, 17.06226781, 23.70825481,\n",
       "       27.25857941, 20.49087205, 24.66587209, 23.57613556, 11.295105  ,\n",
       "       21.44167453, 29.60611936, 31.45927258, 27.31557533, 21.11141332,\n",
       "       22.79865163, 25.99968385, 36.11599299, 30.64928708, 14.41947536,\n",
       "       17.47703302,  6.58332375, 20.62618561, 17.20905675, 13.49336879,\n",
       "       20.74072249, 21.99239062, 32.00930081, 12.88953841, 15.4503875 ,\n",
       "       26.25914538, 24.46113898, 20.50763854, 16.85483606, 35.06823607,\n",
       "       37.08254454, 30.5720962 , 18.98673687, 15.93586933, 18.93569998,\n",
       "       23.37599341, 35.96395154, 18.9782663 , 18.41361676, 18.63779423,\n",
       "       17.43564562, 20.34186916])"
      ]
     },
     "execution_count": 10,
     "metadata": {},
     "output_type": "execute_result"
    }
   ],
   "source": [
    "Y_pred = algo1.predict(X_test)\n",
    "Y_pred\n",
    "#compare Y_pred and Y_test"
   ]
  },
  {
   "cell_type": "code",
   "execution_count": 11,
   "id": "3da59d0e",
   "metadata": {},
   "outputs": [
    {
     "name": "stdout",
     "output_type": "stream",
     "text": [
      "Train Score:  0.7233717561777737\n",
      "Test Score:  0.7957956526587935\n"
     ]
    }
   ],
   "source": [
    "train_score = algo1.score(X_train, Y_train)\n",
    "test_score = algo1.score(X_test, Y_test)\n",
    "print(\"Train Score: \",train_score)\n",
    "print(\"Test Score: \",test_score)"
   ]
  },
  {
   "cell_type": "code",
   "execution_count": 12,
   "id": "34f202cb",
   "metadata": {},
   "outputs": [
    {
     "data": {
      "image/png": "[encoded data removed]",
      "text/plain": [
       "<Figure size 432x288 with 1 Axes>"
      ]
     },
     "metadata": {
      "needs_background": "light"
     },
     "output_type": "display_data"
    }
   ],
   "source": [
    "#compare Y_pred and Y_test\n",
    "import matplotlib.pyplot as plt\n",
    "plt.scatter(Y_pred, Y_test, color = \"red\")\n",
    "#aligning the axis\n",
    "plt.axis([0,40,0,40])\n",
    "xpoints=ypoints=plt.xlim()\n",
    "plt.plot(xpoints, ypoints, color='black', lw=3, scalex=False, scaley=False)\n",
    "plt.show()"
   ]
  },
  {
   "cell_type": "markdown",
   "id": "cffb004b",
   "metadata": {},
   "source": [
    "##applied the concepts of linear regression on the Boston housing dataset."
   ]
  }
 ],
 "metadata": {
  "kernelspec": {
   "display_name": "Python 3",
   "language": "python",
   "name": "python3"
  },
  "language_info": {
   "codemirror_mode": {
    "name": "ipython",
    "version": 3
   },
   "file_extension": ".py",
   "mimetype": "text/x-python",
   "name": "python",
   "nbconvert_exporter": "python",
   "pygments_lexer": "ipython3",
   "version": "3.8.8"
  }
 },
 "nbformat": 4,
 "nbformat_minor": 5
}
